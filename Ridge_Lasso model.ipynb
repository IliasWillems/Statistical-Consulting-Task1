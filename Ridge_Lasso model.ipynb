{
 "cells": [
  {
   "cell_type": "markdown",
   "id": "9bd946dc",
   "metadata": {},
   "source": [
    "# Ridge/Lasso Regression\n",
    "\n",
    "This script fits a ridge and Lasso regression through the data."
   ]
  },
  {
   "cell_type": "code",
   "execution_count": 1,
   "id": "fbb16896",
   "metadata": {},
   "outputs": [],
   "source": [
    "import pandas as pd\n",
    "import numpy as np\n",
    "import matplotlib.pyplot as plt\n",
    "import datetime as dt\n",
    "import warnings\n",
    "import pickle\n",
    "\n",
    "from sklearn import linear_model\n",
    "from sklearn.preprocessing import StandardScaler, RobustScaler\n",
    "from sklearn.model_selection import train_test_split\n",
    "from sklearn.feature_selection import SelectKBest, f_regression\n",
    "from sklearn.decomposition import PCA\n",
    "from sklearn.pipeline import Pipeline\n",
    "from sklearn.model_selection import GridSearchCV"
   ]
  },
  {
   "cell_type": "code",
   "execution_count": 38,
   "id": "f3779d8a",
   "metadata": {},
   "outputs": [],
   "source": [
    "# Use all data or work on subset?\n",
    "USE_ALL_DATA = False\n",
    "WRITE_RESULTS = True\n",
    "WITH_AIRPORT_CLASSES = False\n",
    "\n",
    "if WITH_AIRPORT_CLASSES:\n",
    "    df = pd.read_csv(\"Data/modified_data_with_classes.csv\")\n",
    "else:\n",
    "    df = pd.read_csv(\"Data/modified_training_data_complete.csv\")\n",
    "\n",
    "if not USE_ALL_DATA:\n",
    "    df = df.sample(n=500000, replace=False)\n",
    "    df.reset_index(inplace=True, drop=True)"
   ]
  },
  {
   "cell_type": "markdown",
   "id": "6a7628de",
   "metadata": {},
   "source": [
    "## Get the data ready for analysis\n",
    "\n",
    "As our machine learning model cannot handle categorical variables, we first encode them into a one-hot encoding. After having encoded these columns, we drop the original ones."
   ]
  },
  {
   "cell_type": "code",
   "execution_count": 39,
   "id": "89b4627a",
   "metadata": {},
   "outputs": [
    {
     "data": {
      "text/plain": [
       "(500000, 657)"
      ]
     },
     "execution_count": 39,
     "metadata": {},
     "output_type": "execute_result"
    }
   ],
   "source": [
    "airline_dummies = pd.get_dummies(df['AIRLINE'], prefix = 'AIRLINE')\n",
    "\n",
    "df = pd.merge(\n",
    "    left=df,\n",
    "    right=airline_dummies,\n",
    "    left_index=True,\n",
    "    right_index=True,\n",
    ")\n",
    "\n",
    "df.drop(columns = ['AIRLINE'], inplace=True)\n",
    "\n",
    "if WITH_AIRPORT_CLASSES:\n",
    "    origin_dummies = pd.get_dummies(df['ORIGIN_CLASS'], prefix = \"ORIGIN\")\n",
    "    destination_dummies = pd.get_dummies(df['DESTINATION_CLASS'], prefix = \"DESTINATION\")\n",
    "    \n",
    "    df = pd.merge(\n",
    "        left = df,\n",
    "        right = origin_dummies,\n",
    "        left_index = True,\n",
    "        right_index = True)\n",
    "    \n",
    "    df = pd.merge(\n",
    "        left = df,\n",
    "        right = destination_dummies,\n",
    "        left_index = True,\n",
    "        right_index = True)\n",
    "    \n",
    "    df.drop(columns = ['ORIGIN_CLASS', 'DESTINATION_CLASS'], inplace=True)\n",
    "else:\n",
    "    or_airport_dummies = pd.get_dummies(df['ORIGIN_AIRPORT'], prefix = 'OR_AIR')\n",
    "    dest_airport_dummies = pd.get_dummies(df['DESTINATION_AIRPORT'], prefix = 'DEST_AIR')\n",
    "\n",
    "    df = pd.merge(\n",
    "        left=df,\n",
    "        right=or_airport_dummies,\n",
    "        left_index=True,\n",
    "        right_index=True,\n",
    "    )\n",
    "\n",
    "    df = pd.merge(\n",
    "        left=df,\n",
    "        right=dest_airport_dummies,\n",
    "        left_index=True,\n",
    "        right_index=True,\n",
    "    )\n",
    "    \n",
    "    df.drop(columns=['ORIGIN_AIRPORT', 'DESTINATION_AIRPORT'], inplace=True)\n",
    "\n",
    "df.shape"
   ]
  },
  {
   "cell_type": "markdown",
   "id": "e65fe57b",
   "metadata": {},
   "source": [
    "## Fit the regression models\n",
    "\n",
    "We will fit both a ridge and lasso regression"
   ]
  },
  {
   "cell_type": "code",
   "execution_count": 40,
   "id": "b3f77870",
   "metadata": {},
   "outputs": [
    {
     "name": "stdout",
     "output_type": "stream",
     "text": [
      "Fitting 5 folds for each of 160 candidates, totalling 800 fits\n",
      "Model for target variable TARGET_3:\n",
      "Coefficient of Determination = 0.2940810444310492\n",
      "Mean Squared Error = 12954.491315689633\n",
      "{'reduce_dim': PCA(n_components=16), 'reduce_dim__n_components': 16, 'regressor': Lasso(alpha=0.03162277660168379), 'regressor__alpha': 0.03162277660168379, 'scaler': RobustScaler()}\n"
     ]
    }
   ],
   "source": [
    "# Set some useful parameters\n",
    "TARGET = 'TARGET_3'             # 'TARGET_1', 'TARGET_2', 'TARGET_3' or 'ALL'\n",
    "COMPONENTS_TO_RETAIN_STEP_SIZE = 5\n",
    "\n",
    "alpha_to_test = np.power(10,np.arange(-2,2,0.5))\n",
    "n_features_to_test = np.arange(1, 21, COMPONENTS_TO_RETAIN_STEP_SIZE)\n",
    "\n",
    "# Create the design matrix (no column of ones in front)\n",
    "X = df.loc[:, ~df.columns.isin(['SCHEDULED_TIME', 'CANCELLED', 'TARGET_1', 'TARGET_2', 'TARGET_3'])]\n",
    "\n",
    "pipe = Pipeline([\n",
    "        ('scaler', StandardScaler()),\n",
    "        ('reduce_dim', PCA()),\n",
    "        ('regressor', linear_model.Ridge())\n",
    "        ])\n",
    "\n",
    "params = [{'reduce_dim' : [PCA()],\n",
    "          'reduce_dim__n_components': n_features_to_test,\n",
    "          'regressor__alpha': alpha_to_test,\n",
    "          'scaler' : [StandardScaler(), RobustScaler()],\n",
    "          'regressor': [linear_model.Ridge(), linear_model.Lasso()]},\n",
    "          \n",
    "          {'reduce_dim' : [\"passthrough\"],\n",
    "          'regressor__alpha': alpha_to_test,\n",
    "          'scaler' : [StandardScaler(), RobustScaler()],\n",
    "          'regressor': [linear_model.Ridge(), linear_model.Lasso()]}]\n",
    "\n",
    "# Define penalty function\n",
    "def MSE(pred, target):\n",
    "    return (np.square(pred - target)).mean(axis=0)\n",
    "\n",
    "# Define the function that finds the best model and displays some useful information about it, like goodness-of-fit\n",
    "# measures, among other thigns.\n",
    "def find_model_for(target):\n",
    "    y = df.loc[:, target]\n",
    "    X_train, X_test, y_train, y_test = train_test_split(X, y, random_state=1)\n",
    "    gridsearch = GridSearchCV(pipe, params, verbose=1).fit(X_train, y_train)\n",
    "    \n",
    "    print(\"Model for target variable %s:\" % target)\n",
    "    print(\"Coefficient of Determination =\", gridsearch.score(X_test, y_test))\n",
    "    print(\"Mean Squared Error =\", MSE(gridsearch.predict(X_test), y_test))\n",
    "    print(gridsearch.best_params_)\n",
    "    \n",
    "    return gridsearch\n",
    "    \n",
    "    \n",
    "if TARGET == 'ALL':\n",
    "    model1 = find_model_for('TARGET_1')\n",
    "    model2 = find_model_for('TARGET_2')\n",
    "    model3 = find_model_for('TARGET_3')\n",
    "    \n",
    "    if WRITE_RESULTS:\n",
    "        pickle.dump(model1, open(\"RL_TARGET_1_with_classes.sav\", 'wb'))\n",
    "        pickle.dump(model2, open(\"RL_TARGET_2_with_classes.sav\", 'wb'))\n",
    "        pickle.dump(model2, open(\"RL_TARGET_3_with_classes.sav\", 'wb'))\n",
    "else:\n",
    "    model = find_model_for(TARGET)\n",
    "    \n",
    "    if WRITE_RESULTS:\n",
    "        filename = \"RL_\" + TARGET + \".sav\"\n",
    "        pickle.dump(model, open(filename, 'wb'))\n",
    "    "
   ]
  },
  {
   "cell_type": "markdown",
   "id": "1ca04542",
   "metadata": {},
   "source": [
    "## Take a look at the performance"
   ]
  },
  {
   "cell_type": "code",
   "execution_count": 9,
   "id": "c7afc0d0",
   "metadata": {},
   "outputs": [],
   "source": [
    "# Load in the model of interest and set the target variable accordingly (manual)\n",
    "model = pickle.load(open('Results Ridge_MLPregression/RL_TARGET_3_with_classes.sav', 'rb'))\n",
    "target = 'TARGET_3'"
   ]
  },
  {
   "cell_type": "code",
   "execution_count": 10,
   "id": "881d7759",
   "metadata": {},
   "outputs": [],
   "source": [
    "# Load in the data set\n",
    "WITH_AIRPORT_CLASSES = True\n",
    "\n",
    "if WITH_AIRPORT_CLASSES:\n",
    "    df = pd.read_csv(\"Data/modified_data_with_classes.csv\")\n",
    "else:\n",
    "    df = pd.read_csv(\"Data/modified_training_data_complete.csv\")"
   ]
  },
  {
   "cell_type": "code",
   "execution_count": 11,
   "id": "c7f6a080",
   "metadata": {},
   "outputs": [],
   "source": [
    "# Get the data ready to be put into the model\n",
    "airline_dummies = pd.get_dummies(df['AIRLINE'], prefix = 'AIRLINE')\n",
    "\n",
    "df = pd.merge(\n",
    "    left=df,\n",
    "    right=airline_dummies,\n",
    "    left_index=True,\n",
    "    right_index=True,\n",
    ")\n",
    "\n",
    "df.drop(columns = ['AIRLINE'], inplace=True)\n",
    "\n",
    "if WITH_AIRPORT_CLASSES:\n",
    "    origin_dummies = pd.get_dummies(df['ORIGIN_CLASS'], prefix = \"ORIGIN\")\n",
    "    destination_dummies = pd.get_dummies(df['DESTINATION_CLASS'], prefix = \"DESTINATION\")\n",
    "    \n",
    "    df = pd.merge(\n",
    "        left = df,\n",
    "        right = origin_dummies,\n",
    "        left_index = True,\n",
    "        right_index = True)\n",
    "    \n",
    "    df = pd.merge(\n",
    "        left = df,\n",
    "        right = destination_dummies,\n",
    "        left_index = True,\n",
    "        right_index = True)\n",
    "    \n",
    "    df.drop(columns = ['ORIGIN_CLASS', 'DESTINATION_CLASS'], inplace=True)\n",
    "else:\n",
    "    or_airport_dummies = pd.get_dummies(df['ORIGIN_AIRPORT'], prefix = 'OR_AIR')\n",
    "    dest_airport_dummies = pd.get_dummies(df['DESTINATION_AIRPORT'], prefix = 'DEST_AIR')\n",
    "\n",
    "    df = pd.merge(\n",
    "        left=df,\n",
    "        right=or_airport_dummies,\n",
    "        left_index=True,\n",
    "        right_index=True,\n",
    "    )\n",
    "\n",
    "    df = pd.merge(\n",
    "        left=df,\n",
    "        right=dest_airport_dummies,\n",
    "        left_index=True,\n",
    "        right_index=True,\n",
    "    )\n",
    "    \n",
    "    df.drop(columns=['ORIGIN_AIRPORT', 'DESTINATION_AIRPORT'], inplace=True)\n",
    "\n",
    "X = df.loc[:, ~df.columns.isin(['SCHEDULED_TIME', 'CANCELLED', 'TARGET_1', 'TARGET_2', 'TARGET_3'])]\n",
    "y = df.loc[:, target]"
   ]
  },
  {
   "cell_type": "code",
   "execution_count": 17,
   "id": "3980eba9",
   "metadata": {},
   "outputs": [],
   "source": [
    "# Compute the MSE on the full data set\n",
    "def MSE(pred, target):\n",
    "    return (np.square(pred - target)).mean(axis=0)\n",
    "\n",
    "\n",
    "predictions = model.predict(X)"
   ]
  },
  {
   "cell_type": "code",
   "execution_count": 18,
   "id": "22648ced",
   "metadata": {},
   "outputs": [
    {
     "name": "stdout",
     "output_type": "stream",
     "text": [
      "The mean squared error is 13495.242145911941.\n"
     ]
    }
   ],
   "source": [
    "mse = MSE(predictions, y)\n",
    "print(\"The mean squared error is %s.\" % mse)"
   ]
  },
  {
   "cell_type": "code",
   "execution_count": 40,
   "id": "ffda5595",
   "metadata": {},
   "outputs": [
    {
     "data": {
      "image/png": "[encoded data removed]",
      "text/plain": [
       "<Figure size 432x288 with 1 Axes>"
      ]
     },
     "metadata": {
      "needs_background": "light"
     },
     "output_type": "display_data"
    }
   ],
   "source": [
    "errors = abs(predictions - y)\n",
    "errors.describe()\n",
    "\n",
    "def classify_error(x):\n",
    "    if 0 < x < 10:\n",
    "        return \"0-10\"\n",
    "    elif 10 <= x < 60:\n",
    "        return \"10-60\"\n",
    "    elif 60 <= x < 240:\n",
    "        return \"60-240\"\n",
    "    else:\n",
    "        return \">= 240\"\n",
    "\n",
    "error_discription = errors.apply(lambda x: classify_error(x))\n",
    "\n",
    "plt.hist(error_discription)\n",
    "plt.yscale('log')\n",
    "plt.show()"
   ]
  },
  {
   "cell_type": "code",
   "execution_count": 49,
   "id": "07d5166b",
   "metadata": {},
   "outputs": [
    {
     "data": {
      "image/png": "[encoded data removed]",
      "text/plain": [
       "<Figure size 432x288 with 1 Axes>"
      ]
     },
     "metadata": {
      "needs_background": "light"
     },
     "output_type": "display_data"
    }
   ],
   "source": [
    "y_description = abs(y).apply(lambda x: classify_error(x))\n",
    "\n",
    "plt.hist(y_description)\n",
    "plt.yscale('log')\n",
    "plt.show()"
   ]
  }
 ],
 "metadata": {
  "kernelspec": {
   "display_name": "Python 3 (ipykernel)",
   "language": "python",
   "name": "python3"
  },
  "language_info": {
   "codemirror_mode": {
    "name": "ipython",
    "version": 3
   },
   "file_extension": ".py",
   "mimetype": "text/x-python",
   "name": "python",
   "nbconvert_exporter": "python",
   "pygments_lexer": "ipython3",
   "version": "3.9.7"
  },
  "varInspector": {
   "cols": {
    "lenName": 16,
    "lenType": 16,
    "lenVar": 40
   },
   "kernels_config": {
    "python": {
     "delete_cmd_postfix": "",
     "delete_cmd_prefix": "del ",
     "library": "var_list.py",
     "varRefreshCmd": "print(var_dic_list())"
    },
    "r": {
     "delete_cmd_postfix": ") ",
     "delete_cmd_prefix": "rm(",
     "library": "var_list.r",
     "varRefreshCmd": "cat(var_dic_list()) "
    }
   },
   "types_to_exclude": [
    "module",
    "function",
    "builtin_function_or_method",
    "instance",
    "_Feature"
   ],
   "window_display": false
  }
 },
 "nbformat": 4,
 "nbformat_minor": 5
}
